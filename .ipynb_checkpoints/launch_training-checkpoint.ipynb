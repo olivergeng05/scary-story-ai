{
 "cells": [
  {
   "cell_type": "code",
   "execution_count": 1,
   "id": "0b18d92e",
   "metadata": {},
   "outputs": [
    {
     "ename": "ModuleNotFoundError",
     "evalue": "No module named 'sagemaker'",
     "output_type": "error",
     "traceback": [
      "\u001b[31m---------------------------------------------------------------------------\u001b[39m",
      "\u001b[31mModuleNotFoundError\u001b[39m                       Traceback (most recent call last)",
      "\u001b[36mCell\u001b[39m\u001b[36m \u001b[39m\u001b[32mIn[1]\u001b[39m\u001b[32m, line 1\u001b[39m\n\u001b[32m----> \u001b[39m\u001b[32m1\u001b[39m \u001b[38;5;28;01mfrom\u001b[39;00m\u001b[38;5;250m \u001b[39m\u001b[34;01msagemaker\u001b[39;00m\u001b[34;01m.\u001b[39;00m\u001b[34;01mhuggingface\u001b[39;00m\u001b[38;5;250m \u001b[39m\u001b[38;5;28;01mimport\u001b[39;00m HuggingFace\n\u001b[32m      2\u001b[39m \u001b[38;5;28;01mfrom\u001b[39;00m\u001b[38;5;250m \u001b[39m\u001b[34;01msagemaker\u001b[39;00m\u001b[38;5;250m \u001b[39m\u001b[38;5;28;01mimport\u001b[39;00m get_execution_role\n\u001b[32m      4\u001b[39m \u001b[38;5;66;03m# Get your SageMaker execution role\u001b[39;00m\n",
      "\u001b[31mModuleNotFoundError\u001b[39m: No module named 'sagemaker'"
     ]
    }
   ],
   "source": [
    "from sagemaker.huggingface import HuggingFace\n",
    "from sagemaker import get_execution_role\n",
    "\n",
    "# Get your SageMaker execution role\n",
    "role = get_execution_role()\n",
    "\n",
    "# Define your training job\n",
    "huggingface_estimator = HuggingFace(\n",
    "    entry_point='train.py',  # the training script inside your folder\n",
    "    source_dir='train_story_model',  # the folder with train.py + requirements.txt\n",
    "    instance_type='ml.m5d.large',  # your upgraded instance\n",
    "    instance_count=1,\n",
    "    role=role,\n",
    "    transformers_version='4.26',\n",
    "    pytorch_version='1.13',\n",
    "    py_version='py39',\n",
    "    base_job_name='scary-story-train'\n",
    ")\n",
    "\n",
    "# Start training\n",
    "huggingface_estimator.fit({\n",
    "    \"train\": \"s3://aistorygenerator/reddit_stories.txt\"\n",
    "})"
   ]
  },
  {
   "cell_type": "code",
   "execution_count": 2,
   "id": "27ea5a6c",
   "metadata": {},
   "outputs": [
    {
     "ename": "ModuleNotFoundError",
     "evalue": "No module named 'sagemaker'",
     "output_type": "error",
     "traceback": [
      "\u001b[31m---------------------------------------------------------------------------\u001b[39m",
      "\u001b[31mModuleNotFoundError\u001b[39m                       Traceback (most recent call last)",
      "\u001b[36mCell\u001b[39m\u001b[36m \u001b[39m\u001b[32mIn[2]\u001b[39m\u001b[32m, line 1\u001b[39m\n\u001b[32m----> \u001b[39m\u001b[32m1\u001b[39m \u001b[38;5;28;01mfrom\u001b[39;00m\u001b[38;5;250m \u001b[39m\u001b[34;01msagemaker\u001b[39;00m\u001b[34;01m.\u001b[39;00m\u001b[34;01mhuggingface\u001b[39;00m\u001b[38;5;250m \u001b[39m\u001b[38;5;28;01mimport\u001b[39;00m HuggingFace\n\u001b[32m      2\u001b[39m \u001b[38;5;28;01mfrom\u001b[39;00m\u001b[38;5;250m \u001b[39m\u001b[34;01msagemaker\u001b[39;00m\u001b[38;5;250m \u001b[39m\u001b[38;5;28;01mimport\u001b[39;00m get_execution_role\n\u001b[32m      4\u001b[39m \u001b[38;5;66;03m# Grab your SageMaker role\u001b[39;00m\n",
      "\u001b[31mModuleNotFoundError\u001b[39m: No module named 'sagemaker'"
     ]
    }
   ],
   "source": [
    "from sagemaker.huggingface import HuggingFace\n",
    "from sagemaker import get_execution_role\n",
    "\n",
    "# Grab your SageMaker role\n",
    "role = get_execution_role()\n",
    "\n",
    "# Define your estimator\n",
    "huggingface_estimator = HuggingFace(\n",
    "    entry_point='train.py',\n",
    "    source_dir='train_story_model',  # <- your folder, not the .zip\n",
    "    instance_type='ml.m5d.large',    # <- your current notebook type\n",
    "    instance_count=1,\n",
    "    role=role,\n",
    "    transformers_version='4.26',\n",
    "    pytorch_version='1.13',\n",
    "    py_version='py39',\n",
    "    base_job_name='scary-story-train'\n",
    ")\n",
    "\n",
    "# Start training using S3 input\n",
    "huggingface_estimator.fit({\n",
    "    \"train\": \"s3://aistorygenerator/reddit_stories.txt\"\n",
    "})"
   ]
  },
  {
   "cell_type": "code",
   "execution_count": 3,
   "id": "9c9c0c5d",
   "metadata": {},
   "outputs": [
    {
     "name": "stdout",
     "output_type": "stream",
     "text": [
      " Volume in drive C is Windows-SSD\n",
      " Volume Serial Number is 22D9-D00A\n",
      "\n",
      " Directory of c:\\Users\\jayde\\OneDrive\\Desktop\\scarystories\\.ipynb_checkpoints\n",
      "\n",
      "04/12/2025  01:03 AM    <DIR>          .\n",
      "04/12/2025  01:28 AM    <DIR>          ..\n",
      "04/12/2025  01:03 AM                78 launch_training-checkpoint.ipynb\n",
      "04/12/2025  01:03 AM            19,545 reddit_stories-checkpoint.txt\n",
      "04/12/2025  01:03 AM               923 scrape_reddit_stories-checkpoint.py\n",
      "04/12/2025  01:03 AM                 0 upload_to_s3-checkpoint.py\n",
      "               4 File(s)         20,546 bytes\n",
      "               2 Dir(s)  35,317,116,928 bytes free\n"
     ]
    }
   ],
   "source": [
    "ls"
   ]
  },
  {
   "cell_type": "code",
   "execution_count": null,
   "id": "50e7e046",
   "metadata": {},
   "outputs": [],
   "source": []
  }
 ],
 "metadata": {
  "kernelspec": {
   "display_name": "Python 3",
   "language": "python",
   "name": "python3"
  },
  "language_info": {
   "codemirror_mode": {
    "name": "ipython",
    "version": 3
   },
   "file_extension": ".py",
   "mimetype": "text/x-python",
   "name": "python",
   "nbconvert_exporter": "python",
   "pygments_lexer": "ipython3",
   "version": "3.12.2"
  }
 },
 "nbformat": 4,
 "nbformat_minor": 5
}
